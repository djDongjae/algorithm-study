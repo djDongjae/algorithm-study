{
  "nbformat": 4,
  "nbformat_minor": 0,
  "metadata": {
    "colab": {
      "provenance": [],
      "collapsed_sections": [],
      "authorship_tag": "ABX9TyPMcNDFZBTFEAFf+XvnBW3y",
      "include_colab_link": true
    },
    "kernelspec": {
      "name": "python3",
      "display_name": "Python 3"
    },
    "language_info": {
      "name": "python"
    }
  },
  "cells": [
    {
      "cell_type": "markdown",
      "metadata": {
        "id": "view-in-github",
        "colab_type": "text"
      },
      "source": [
        "<a href=\"https://colab.research.google.com/github/djDongjae/Algorithm-Study/blob/main/Q16%5B%EC%97%B0%EA%B5%AC%EC%86%8C%5D.ipynb\" target=\"_parent\"><img src=\"https://colab.research.google.com/assets/colab-badge.svg\" alt=\"Open In Colab\"/></a>"
      ]
    },
    {
      "cell_type": "code",
      "source": [
        "from itertools import combinations\n",
        "\n",
        "\n",
        "n, m = map(int, input().split())\n",
        "graph = []\n",
        "for _ in range(n):\n",
        "    graph.append(list(map(int, input().split())))\n",
        "\n",
        "virus_location = []\n",
        "safety_location = []\n",
        "for i in range(n):\n",
        "    for j in range(m):\n",
        "        if graph[i][j] == 2:\n",
        "            virus_location.append((i, j))\n",
        "        if graph[i][j] == 0:\n",
        "            safety_location.append((i, j))\n",
        "\n",
        "wall_combinations = list(combinations(safety_location, 3))\n",
        "\n",
        "def dfs(x, y):\n",
        "    if x < 0 or x >= n or y < 0 or y >= m:\n",
        "        return False\n",
        "    if graph[x][y] == 0:\n",
        "        graph[x][y] = 2\n",
        "        dfs(x-1, y)\n",
        "        dfs(x+1, y)\n",
        "        dfs(x, y-1)\n",
        "        dfs(x, y+1)\n",
        "        return True\n",
        "    return False\n",
        "maximum = 0\n",
        "\n",
        "for walls in wall_combinations:\n",
        "    count = 0\n",
        "    for i in range(3):\n",
        "        x = walls[i][0]\n",
        "        y = walls[i][1]\n",
        "        graph[x][y] = 1\n",
        "    for virus in virus_location:\n",
        "        graph[virus[0]][virus[1]] = 0\n",
        "        dfs(virus[0],virus[1])\n",
        "    for i in range(n):\n",
        "        for j in range(m):\n",
        "            if graph[i][j] == 0:\n",
        "                count += 1\n",
        "            if graph[i][j] == 2:\n",
        "                graph[i][j] = 0\n",
        "    maximum = max(maximum, count)\n",
        "    for i in range(3):\n",
        "        x = walls[i][0]\n",
        "        y = walls[i][1]\n",
        "        graph[x][y] = 0\n",
        "    for virus in virus_location:\n",
        "        graph[virus[0]][virus[1]] = 2\n",
        "\n",
        "print(maximum)"
      ],
      "metadata": {
        "colab": {
          "base_uri": "https://localhost:8080/"
        },
        "id": "vJ5y1ZPFzrXZ",
        "outputId": "b8ba9f4e-e5e9-43b3-973c-69808975bf0a"
      },
      "execution_count": null,
      "outputs": [
        {
          "output_type": "stream",
          "name": "stdout",
          "text": [
            "4 6\n",
            "0 0 0 0 0 0\n",
            "1 0 0 0 0 2\n",
            "1 1 1 0 0 2\n",
            "0 0 0 0 0 2\n",
            "9\n"
          ]
        }
      ]
    }
  ]
}